{
 "cells": [
  {
   "cell_type": "markdown",
   "metadata": {},
   "source": [
    "# **HW-03**\n",
    "Данилевского Александра"
   ]
  },
  {
   "cell_type": "markdown",
   "metadata": {},
   "source": [
    "<div style=\"clear:both;\"></div>\n",
    "<hr style=\"float:left;width:100%;border-top: 3px double #8c8b8b;\">\n",
    "<div style=\"clear:both;\"></div>"
   ]
  },
  {
   "cell_type": "markdown",
   "metadata": {},
   "source": [
    "# Задача № 1\n",
    "\n",
    "Дан массив чисел, содержащий значение температуры за последний 10 дней (сгенерируйте массив чисел с плавающей точкой от 10 до 25).\n",
    "\n",
    "- Рассчитайте массив чисел, который содежит соответствующие значения в [Фаренгейтах](https://ru.wikipedia.org/wiki/%D0%93%D1%80%D0%B0%D0%B4%D1%83%D1%81_%D0%A4%D0%B0%D1%80%D0%B5%D0%BD%D0%B3%D0%B5%D0%B9%D1%82%D0%B0).\n",
    "\n",
    "- Рассчитайте массив чисел, который преобразует значения в Фаренгейтах в значения по [Кельвину](https://ru.wikipedia.org/wiki/%D0%9A%D0%B5%D0%BB%D1%8C%D0%B2%D0%B8%D0%BD)\n",
    "\n",
    "- Значения по Кельвину преобразуйте в градусы Цельсия и сравните полученный результат с исходным массивом (выведите разность)."
   ]
  },
  {
   "cell_type": "code",
   "execution_count": 388,
   "metadata": {
    "scrolled": true
   },
   "outputs": [],
   "source": [
    "import numpy as np\n",
    "import random\n",
    "array1_degrees = np.array([random.uniform(10, 20) for i in range(10)]);"
   ]
  },
  {
   "cell_type": "code",
   "execution_count": 182,
   "metadata": {},
   "outputs": [],
   "source": [
    "array1_Fahrenheit = np.array(list(map(lambda x:9/5*x+32, array1_degrees)));\n",
    "array1_Kelvin = np.array(list(map(lambda x: (x+459.67)*5/9, array1_Fahrenheit)));\n",
    "array1_Celsius = np.array(list(map(lambda x: x-273.15, array1_Kelvin )));"
   ]
  },
  {
   "cell_type": "code",
   "execution_count": 389,
   "metadata": {
    "scrolled": true
   },
   "outputs": [
    {
     "name": "stdout",
     "output_type": "stream",
     "text": [
      "Сравним разность array1_Celsius-array1_degrees:\n",
      "[-0.66781932 -2.37727995  1.64000714 -1.02195556  0.35622954  4.10416218\n",
      "  0.42998233 -5.6122463   1.24615695  3.61386025]\n"
     ]
    }
   ],
   "source": [
    "print('Сравним разность array1_Celsius-array1_degrees:');\n",
    "print(array1_Celsius-array1_degrees);"
   ]
  },
  {
   "cell_type": "markdown",
   "metadata": {},
   "source": [
    "*P.S. Можно ли как-нибудь не приводить к list'у, чтобы сгенерировать np.array?*"
   ]
  },
  {
   "cell_type": "markdown",
   "metadata": {},
   "source": [
    "<div style=\"clear:both;\"></div>\n",
    "<hr style=\"float:left;width:100%;border-top: 3px double #8c8b8b;\">\n",
    "<div style=\"clear:both;\"></div>"
   ]
  },
  {
   "cell_type": "markdown",
   "metadata": {},
   "source": [
    "# Задача № 2\n",
    "\n",
    "Дан словарь.\n",
    "Напишите функцию, которая возвращает словарь, состоящий из элементов исходного с ключами типа String."
   ]
  },
  {
   "cell_type": "code",
   "execution_count": 390,
   "metadata": {},
   "outputs": [],
   "source": [
    "dict2 = {'x':2, 4:'y', 4.0:'12', '3':'fdfs', 'a':9., b'pp':52, 5:'5'};"
   ]
  },
  {
   "cell_type": "code",
   "execution_count": 391,
   "metadata": {
    "scrolled": true
   },
   "outputs": [
    {
     "name": "stdout",
     "output_type": "stream",
     "text": [
      "Словарь, содержащий только элементы со значением \"str\":\n",
      " {4: '12', '3': 'fdfs', 5: '5'}\n"
     ]
    }
   ],
   "source": [
    "dict2_str = dict(filter(lambda x: type(x[1]) is str , dict2.items()));\n",
    "print('Словарь, содержащий только элементы со значением \"str\":\\n',dict2_str);"
   ]
  },
  {
   "cell_type": "markdown",
   "metadata": {},
   "source": [
    "<div style=\"clear:both;\"></div>\n",
    "<hr style=\"float:left;width:100%;border-top: 3px double #8c8b8b;\">\n",
    "<div style=\"clear:both;\"></div>"
   ]
  },
  {
   "cell_type": "markdown",
   "metadata": {},
   "source": [
    "# Задача № 3\n",
    "\n",
    "- Сгенерируйте два массива $a$ и $b$ одинаковой случайной длины $n$ (от 4 до 8 чисел) случайных чисел от 1 до 10\n",
    "- Посчитайте $\\prod\\limits_{i = 0}^{n-1} (a[i] + b[n-1-i])$, используя только функции __map, zip, filter, reduce__"
   ]
  },
  {
   "cell_type": "code",
   "execution_count": 435,
   "metadata": {},
   "outputs": [],
   "source": [
    "n = random.randint(4, 8);\n",
    "a = np.array([random.uniform(1, 10) for i in range(n)]);\n",
    "b = np.array([random.uniform(1, 10) for i in range(n)]);"
   ]
  },
  {
   "cell_type": "code",
   "execution_count": 442,
   "metadata": {
    "scrolled": true
   },
   "outputs": [
    {
     "name": "stdout",
     "output_type": "stream",
     "text": [
      "Выражение равно  301284.9972195862\n"
     ]
    }
   ],
   "source": [
    "from functools import reduce;\n",
    "prod3 = reduce(lambda x,y: x*y,map(lambda x,y: x+y, a, b[::-1]));\n",
    "print('Выражение равно ', prod3);"
   ]
  }
 ],
 "metadata": {
  "kernelspec": {
   "display_name": "Python 3",
   "language": "python",
   "name": "python3"
  },
  "language_info": {
   "codemirror_mode": {
    "name": "ipython",
    "version": 3
   },
   "file_extension": ".py",
   "mimetype": "text/x-python",
   "name": "python",
   "nbconvert_exporter": "python",
   "pygments_lexer": "ipython3",
   "version": "3.6.5"
  }
 },
 "nbformat": 4,
 "nbformat_minor": 2
}
